{
 "cells": [
  {
   "cell_type": "markdown",
   "metadata": {},
   "source": [
    "# initial problem exploration"
   ]
  },
  {
   "cell_type": "code",
   "execution_count": 1,
   "metadata": {
    "collapsed": true
   },
   "outputs": [],
   "source": [
    "from __future__ import print_function, unicode_literals\n",
    "\n",
    "import pandas as pd\n",
    "import numpy as np"
   ]
  },
  {
   "cell_type": "code",
   "execution_count": 2,
   "metadata": {
    "collapsed": true
   },
   "outputs": [],
   "source": [
    "train = pd.read_csv(\"data/train.csv\")\n",
    "features = ['feat_%d' % n for n in xrange(1, 91)]\n",
    "target = \"target\"\n",
    "\n",
    "X_df = train[features]\n",
    "y_series = train[target]"
   ]
  },
  {
   "cell_type": "code",
   "execution_count": 3,
   "metadata": {
    "collapsed": false
   },
   "outputs": [
    {
     "name": "stdout",
     "output_type": "stream",
     "text": [
      "column types\n",
      "int64    90\n",
      "dtype: int64\n"
     ]
    }
   ],
   "source": [
    "print(\"column types\")\n",
    "print(X_df.dtypes.value_counts())"
   ]
  },
  {
   "cell_type": "markdown",
   "metadata": {},
   "source": [
    "Everything's an int"
   ]
  },
  {
   "cell_type": "code",
   "execution_count": 4,
   "metadata": {
    "collapsed": false
   },
   "outputs": [
    {
     "data": {
      "text/plain": [
       "<matplotlib.text.Text at 0x110068510>"
      ]
     },
     "execution_count": 4,
     "metadata": {},
     "output_type": "execute_result"
    },
    {
     "data": {
      "image/png": "[encoded data removed]",
      "text/plain": [
       "<matplotlib.figure.Figure at 0x10d793910>"
      ]
     },
     "metadata": {},
     "output_type": "display_data"
    }
   ],
   "source": [
    "%matplotlib inline\n",
    "\n",
    "import matplotlib.pyplot as plt\n",
    "\n",
    "fig = plt.gcf()\n",
    "fig.set_size_inches(16, 10.5)\n",
    "\n",
    "for i, feat in enumerate(features):\n",
    "    vc = X_df[feat].value_counts()\n",
    "    l = vc.index.tolist()\n",
    "    l.sort()\n",
    "    vc = vc[l]\n",
    "    plt.plot(vc.index.values, vc.values)\n",
    "    \n",
    "plt.ylim([0, 20000])\n",
    "plt.xlim([0, 200])\n",
    "plt.title(\"Value counts of each feature\")"
   ]
  },
  {
   "cell_type": "markdown",
   "metadata": {},
   "source": [
    "What's the class distribution?"
   ]
  },
  {
   "cell_type": "code",
   "execution_count": 5,
   "metadata": {
    "collapsed": false
   },
   "outputs": [
    {
     "data": {
      "text/plain": [
       "Class_2    16122\n",
       "Class_6    14135\n",
       "Class_8     8464\n",
       "Class_3     8004\n",
       "Class_9     4955\n",
       "Class_7     2839\n",
       "Class_5     2739\n",
       "Class_4     2691\n",
       "Class_1     1929\n",
       "dtype: int64"
      ]
     },
     "execution_count": 5,
     "metadata": {},
     "output_type": "execute_result"
    }
   ],
   "source": [
    "y_series.value_counts()"
   ]
  },
  {
   "cell_type": "markdown",
   "metadata": {},
   "source": [
    "Create a feature and a target matrix"
   ]
  },
  {
   "cell_type": "code",
   "execution_count": 6,
   "metadata": {
    "collapsed": false
   },
   "outputs": [
    {
     "name": "stdout",
     "output_type": "stream",
     "text": [
      "(61878, 90)\n",
      "(61878,)\n"
     ]
    }
   ],
   "source": [
    "X = X_df.as_matrix()\n",
    "X = X.astype(np.float64)\n",
    "y = y_series.as_matrix()\n",
    "y = map(lambda s: int(s[-1]), y)\n",
    "y = np.array(y)\n",
    "print(X.shape)\n",
    "print(y.shape)"
   ]
  },
  {
   "cell_type": "code",
   "execution_count": 7,
   "metadata": {
    "collapsed": false
   },
   "outputs": [
    {
     "data": {
      "text/plain": [
       "2    16122\n",
       "6    14135\n",
       "8     8464\n",
       "3     8004\n",
       "9     4955\n",
       "7     2839\n",
       "5     2739\n",
       "4     2691\n",
       "1     1929\n",
       "dtype: int64"
      ]
     },
     "execution_count": 7,
     "metadata": {},
     "output_type": "execute_result"
    }
   ],
   "source": [
    "pd.value_counts(y)"
   ]
  },
  {
   "cell_type": "markdown",
   "metadata": {},
   "source": [
    "# Bernoulli Naive Bayes"
   ]
  },
  {
   "cell_type": "code",
   "execution_count": 8,
   "metadata": {
    "collapsed": true
   },
   "outputs": [],
   "source": [
    "from sklearn.cross_validation import StratifiedKFold\n",
    "from sklearn.naive_bayes import BernoulliNB"
   ]
  },
  {
   "cell_type": "code",
   "execution_count": 9,
   "metadata": {
    "collapsed": false
   },
   "outputs": [],
   "source": [
    "from datetime import datetime\n",
    "import sys\n",
    "\n",
    "def now():\n",
    "    return datetime.now().strftime('%Y-%m-%d %H:%M:%S')\n",
    "\n",
    "def cv(clf, X, y, verbose=True):\n",
    "    \n",
    "    n = len(np.unique(y))\n",
    "    kf = StratifiedKFold (y, n_folds=10)\n",
    "\n",
    "    i = 0\n",
    "    y_pred = np.zeros((len(y), n), dtype=np.float64)\n",
    "    for train, test in kf:\n",
    "        i += 1\n",
    "        if verbose:\n",
    "            print(now(), \"fold\", i)\n",
    "        sys.stdout.flush()\n",
    "        X_train, X_test, y_train, y_test = X[train], X[test], y[train], y[test]\n",
    "        clf.fit(X_train, y_train)\n",
    "        y_pred[test] = clf.predict_proba(X_test)\n",
    "    return y_pred"
   ]
  },
  {
   "cell_type": "code",
   "execution_count": 10,
   "metadata": {
    "collapsed": false
   },
   "outputs": [
    {
     "name": "stdout",
     "output_type": "stream",
     "text": [
      "2015-04-09 11:19:15 fold 1\n",
      "2015-04-09 11:19:15 fold 2\n",
      "2015-04-09 11:19:15 fold 3\n",
      "2015-04-09 11:19:15 fold 4\n",
      "2015-04-09 11:19:15 fold 5\n",
      "2015-04-09 11:19:15 fold 6\n",
      "2015-04-09 11:19:15 fold 7\n",
      "2015-04-09 11:19:15 fold 8\n",
      "2015-04-09 11:19:16 fold 9\n",
      "2015-04-09 11:19:16 fold 10\n"
     ]
    }
   ],
   "source": [
    "clf = BernoulliNB()\n",
    "y_pred = cv(clf, X, y)"
   ]
  },
  {
   "cell_type": "code",
   "execution_count": 11,
   "metadata": {
    "collapsed": false
   },
   "outputs": [
    {
     "name": "stdout",
     "output_type": "stream",
     "text": [
      "1.74722647086\n"
     ]
    }
   ],
   "source": [
    "from sklearn.metrics import log_loss\n",
    "\n",
    "print(log_loss(y, y_pred))"
   ]
  },
  {
   "cell_type": "markdown",
   "metadata": {},
   "source": [
    "# Random Forest\n",
    "\n",
    "The benchmark kaggle used was a Random Forest"
   ]
  },
  {
   "cell_type": "code",
   "execution_count": 12,
   "metadata": {
    "collapsed": true
   },
   "outputs": [],
   "source": [
    "from sklearn.ensemble import RandomForestClassifier"
   ]
  },
  {
   "cell_type": "code",
   "execution_count": 22,
   "metadata": {
    "collapsed": false
   },
   "outputs": [
    {
     "name": "stdout",
     "output_type": "stream",
     "text": [
      "2015-04-09 11:22:45 fold 1\n",
      "2015-04-09 11:22:50 fold 2\n",
      "2015-04-09 11:22:55 fold 3\n",
      "2015-04-09 11:23:00 fold 4\n",
      "2015-04-09 11:23:05 fold 5\n",
      "2015-04-09 11:23:10 fold 6\n",
      "2015-04-09 11:23:15 fold 7\n",
      "2015-04-09 11:23:20 fold 8\n",
      "2015-04-09 11:23:25 fold 9\n",
      "2015-04-09 11:23:30 fold 10\n",
      "0.766773088917\n"
     ]
    }
   ],
   "source": [
    "rf = RandomForestClassifier(n_estimators=30)\n",
    "rf_y_pred = cv(rf, X, y)\n",
    "print(log_loss(y, rf_y_pred))"
   ]
  },
  {
   "cell_type": "markdown",
   "metadata": {},
   "source": [
    "# Random Forest + Box-Cox\n",
    "\n",
    "Let's try a power transformation to see if it helps smooth out the data."
   ]
  },
  {
   "cell_type": "code",
   "execution_count": 15,
   "metadata": {
    "collapsed": false
   },
   "outputs": [],
   "source": [
    "from scipy.stats import boxcox\n",
    "\n",
    "class BoxCox(object):\n",
    "    def __init__(self, c=0.5):\n",
    "        self._c = c # need some constant so zero values don't blow up\n",
    "        pass\n",
    "    \n",
    "    def fit(self, X, y=None):\n",
    "        lambds = np.zeros(n)\n",
    "        for i in xrange(n):\n",
    "            _, lambds[i] = boxcox(X[:,i] + self._c)\n",
    "        self.lambds_ = lambds\n",
    "        \n",
    "    def fit_transform(self, X, y=None):\n",
    "        n = X.shape[1]\n",
    "        X_tr = X.copy().astype(np.float64)\n",
    "        lambds = np.zeros(n)\n",
    "        for i in xrange(n):\n",
    "            X_tr[:,i], lambds[i] = boxcox(X[:,i] + self._c)\n",
    "        self.lambds_ = lambds\n",
    "        return X_tr\n",
    "    \n",
    "    def transform(self, X, y=None):\n",
    "        assert X.shape[1] == len(self.lambds_)\n",
    "        n = len(self.lambds_)\n",
    "        X_tr = X.copy()\n",
    "        for i in xrange(n):\n",
    "            X_tr[:, i] = boxcox(X[:, i] + self._c, self.lambds_[i])\n",
    "        return X_tr        "
   ]
  },
  {
   "cell_type": "code",
   "execution_count": 23,
   "metadata": {
    "collapsed": true
   },
   "outputs": [],
   "source": [
    "def cv_bx(clf, X, y, verbose=True):\n",
    "    n = len(np.unique(y))\n",
    "    kf = StratifiedKFold(y, n_folds=10)\n",
    "\n",
    "    i = 0\n",
    "    y_pred = np.zeros((len(y), n), dtype=np.float64)\n",
    "    for train, test in kf:\n",
    "        bc = BoxCox(c=1.0) # add 1.0 to all values\n",
    "        i += 1\n",
    "        if verbose:\n",
    "            print(now(), \"fold\", i)\n",
    "        sys.stdout.flush()\n",
    "        X_train, X_test, y_train, y_test = X[train], X[test], y[train], y[test]\n",
    "        X_train_trans = bc.fit_transform(X_train)\n",
    "        clf.fit(X_train_trans, y_train)\n",
    "        y_pred[test] = clf.predict_proba(bc.transform(X_test))\n",
    "    return y_pred"
   ]
  },
  {
   "cell_type": "code",
   "execution_count": 24,
   "metadata": {
    "collapsed": false
   },
   "outputs": [
    {
     "name": "stdout",
     "output_type": "stream",
     "text": [
      "2015-04-09 11:23:49 fold 1\n",
      "2015-04-09 11:23:57 fold 2\n",
      "2015-04-09 11:24:06 fold 3\n",
      "2015-04-09 11:24:14 fold 4\n",
      "2015-04-09 11:24:22 fold 5\n",
      "2015-04-09 11:24:31 fold 6\n",
      "2015-04-09 11:24:39 fold 7\n",
      "2015-04-09 11:24:48 fold 8\n",
      "2015-04-09 11:24:56 fold 9\n",
      "2015-04-09 11:25:04 fold 10\n",
      "0.759647220164\n"
     ]
    }
   ],
   "source": [
    "rf = RandomForestClassifier(n_estimators=30)\n",
    "rf_y_pred = cv_bx(rf, X, y)\n",
    "print(log_loss(y, rf_y_pred))"
   ]
  },
  {
   "cell_type": "code",
   "execution_count": null,
   "metadata": {
    "collapsed": true
   },
   "outputs": [],
   "source": []
  }
 ],
 "metadata": {
  "kernelspec": {
   "display_name": "Python 2",
   "language": "python",
   "name": "python2"
  },
  "language_info": {
   "codemirror_mode": {
    "name": "ipython",
    "version": 2
   },
   "file_extension": ".py",
   "mimetype": "text/x-python",
   "name": "python",
   "nbconvert_exporter": "python",
   "pygments_lexer": "ipython2",
   "version": "2.7.9"
  }
 },
 "nbformat": 4,
 "nbformat_minor": 0
}
